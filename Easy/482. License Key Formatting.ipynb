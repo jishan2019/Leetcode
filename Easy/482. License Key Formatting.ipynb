{
 "cells": [
  {
   "cell_type": "markdown",
   "metadata": {},
   "source": [
    "482. License Key Formatting\n",
    "\n",
    "You are given a license key represented as a string S which consists only alphanumeric character and dashes. The string is separated into N+1 groups by N dashes.\n",
    "\n",
    "Given a number K, we would want to reformat the strings such that each group contains exactly K characters, except for the first group which could be shorter than K, but still must contain at least one character. Furthermore, there must be a dash inserted between two groups and all lowercase letters should be converted to uppercase.\n",
    "\n",
    "Given a non-empty string S and a number K, format the string according to the rules described above.\n",
    "\n",
    "Example 1:\n",
    "Input: S = \"5F3Z-2e-9-w\", K = 4\n",
    "\n",
    "Output: \"5F3Z-2E9W\"\n",
    "\n",
    "Explanation: The string S has been split into two parts, each part has 4 characters.\n",
    "Note that the two extra dashes are not needed and can be removed.\n",
    "Example 2:\n",
    "Input: S = \"2-5g-3-J\", K = 2\n",
    "\n",
    "Output: \"2-5G-3J\"\n",
    "\n",
    "Explanation: The string S has been split into three parts, each part has 2 characters except the first part as it could be shorter as mentioned above.\n",
    "Note:\n",
    "The length of string S will not exceed 12,000, and K is a positive integer.\n",
    "String S consists only of alphanumerical characters (a-z and/or A-Z and/or 0-9) and dashes(-).\n",
    "String S is non-empty."
   ]
  },
  {
   "cell_type": "code",
   "execution_count": null,
   "metadata": {},
   "outputs": [],
   "source": [
    "class Solution:\n",
    "    def licenseKeyFormatting(self, S: str, K: int) -> str:\n",
    "        res = []\n",
    "        s = \"\".join(S.split(\"-\")).upper()\n",
    "        N = len(s)\n",
    "        if N % K != 0:\n",
    "            res.append(s[: N % K])\n",
    "        for i in range(N % K, N, K):\n",
    "            res.append(s[i : i + K])\n",
    "        return \"-\".join(res)"
   ]
  },
  {
   "cell_type": "code",
   "execution_count": 1,
   "metadata": {},
   "outputs": [],
   "source": [
    "S = \"5F3Z-2e-9-w\"\n",
    "K = 4"
   ]
  }
 ],
 "metadata": {
  "kernelspec": {
   "display_name": "Python [conda env:genEnv]",
   "language": "python",
   "name": "conda-env-genEnv-py"
  },
  "language_info": {
   "codemirror_mode": {
    "name": "ipython",
    "version": 3
   },
   "file_extension": ".py",
   "mimetype": "text/x-python",
   "name": "python",
   "nbconvert_exporter": "python",
   "pygments_lexer": "ipython3",
   "version": "3.8.5"
  }
 },
 "nbformat": 4,
 "nbformat_minor": 4
}
