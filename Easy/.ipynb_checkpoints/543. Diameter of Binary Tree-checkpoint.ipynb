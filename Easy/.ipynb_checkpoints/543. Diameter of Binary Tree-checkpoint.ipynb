{
 "cells": [
  {
   "cell_type": "markdown",
   "metadata": {},
   "source": [
    "543. Diameter of Binary Tree\n",
    "\n",
    "Tag: tree (Easy)"
   ]
  },
  {
   "cell_type": "markdown",
   "metadata": {},
   "source": [
    "Given a binary tree, you need to compute the length of the diameter of the tree. The diameter of a binary tree is the length of the longest path between any two nodes in a tree. This path may or may not pass through the root.\n",
    "\n",
    "* Example:\n",
    "Given a binary tree\n",
    "          1\n",
    "         / \\\n",
    "        2   3\n",
    "       / \\     \n",
    "      4   5    \n",
    "Return 3, which is the length of the path [4,2,1,3] or [5,2,1,3].\n",
    "\n",
    "Note: The length of path between two nodes is represented by the number of edges between them."
   ]
  },
  {
   "cell_type": "markdown",
   "metadata": {},
   "source": [
    "* Method 1\n",
    "Traverse every node to get the max length (left), then get the max length (right)-->add these 2 length at each node --> calculate the max depth\n",
    "\n",
    "Complexity: Time O(N^2)  Space O(N^2) \n",
    "\n",
    "\n",
    "* Method 2\n",
    "Find out the max of leftDepth & rightDepth while at each node, meanwhile update the total max.\n",
    "\n",
    "Complexity: Time O(N) Space O(N)\n"
   ]
  },
  {
   "cell_type": "code",
   "execution_count": null,
   "metadata": {},
   "outputs": [],
   "source": [
    "# Definition for a binary tree node.\n",
    "# class TreeNode:\n",
    "#     def __init__(self, val=0, left=None, right=None):\n",
    "#         self.val = val\n",
    "#         self.left = left\n",
    "#         self.right = right\n",
    "class Solution:\n",
    "    def diameterOfBinaryTree(self, root: TreeNode) -> int:\n",
    "        def depth(root, diameter):\n",
    "            if not root:\n",
    "                return 0, diameter\n",
    "            left, diameter = depth(root.left, diameter)\n",
    "            right, diameter = depth(root.right, diameter)\n",
    "            return 1+max(left, right), max(diameter, 1+left+right)\n",
    "        \n",
    "        return depth(root,1)[1]-1"
   ]
  }
 ],
 "metadata": {
  "kernelspec": {
   "display_name": "Python [conda env:pysyft37] *",
   "language": "python",
   "name": "conda-env-pysyft37-py"
  },
  "language_info": {
   "codemirror_mode": {
    "name": "ipython",
    "version": 3
   },
   "file_extension": ".py",
   "mimetype": "text/x-python",
   "name": "python",
   "nbconvert_exporter": "python",
   "pygments_lexer": "ipython3",
   "version": "3.7.6"
  }
 },
 "nbformat": 4,
 "nbformat_minor": 4
}
