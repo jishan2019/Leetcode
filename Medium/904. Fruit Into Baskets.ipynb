{
 "cells": [
  {
   "cell_type": "markdown",
   "metadata": {},
   "source": [
    "904. Fruit Into Baskets\n",
    "\n",
    "Tag: two pointers\n",
    "\n",
    "In a row of trees, the i-th tree produces fruit with type tree[i].\n",
    "\n",
    "You start at any tree of your choice, then repeatedly perform the following steps:\n",
    "\n",
    "Add one piece of fruit from this tree to your baskets.  If you cannot, stop.\n",
    "Move to the next tree to the right of the current tree.  If there is no tree to the right, stop.\n",
    "Note that you do not have any choice after the initial choice of starting tree: you must perform step 1, then step 2, then back to step 1, then step 2, and so on until you stop.\n",
    "\n",
    "You have two baskets, and each basket can carry any quantity of fruit, but you want each basket to only carry one type of fruit each.\n",
    "\n",
    "What is the total amount of fruit you can collect with this procedure?\n",
    "\n",
    " \n",
    "\n",
    "Example 1:\n",
    "\n",
    "Input: [1,2,1]\n",
    "Output: 3\n",
    "Explanation: We can collect [1,2,1].\n",
    "Example 2:\n",
    "\n",
    "Input: [0,1,2,2]\n",
    "Output: 3\n",
    "Explanation: We can collect [1,2,2].\n",
    "If we started at the first tree, we would only collect [0, 1].\n",
    "Example 3:\n",
    "\n",
    "Input: [1,2,3,2,2]\n",
    "Output: 4\n",
    "Explanation: We can collect [2,3,2,2].\n",
    "If we started at the first tree, we would only collect [1, 2].\n",
    "Example 4:\n",
    "\n",
    "Input: [3,3,3,1,2,1,1,2,3,3,4]\n",
    "Output: 5\n",
    "Explanation: We can collect [1,2,1,1,2].\n",
    "If we started at the first tree or the eighth tree, we would only collect 4 fruits."
   ]
  },
  {
   "cell_type": "code",
   "execution_count": null,
   "metadata": {},
   "outputs": [],
   "source": [
    "class Solution:\n",
    "    def totalFruit(self, tree: List[int]) -> int:\n",
    "        from collections import Counter\n",
    "        basket = Counter()\n",
    "        l, res = 0, 0\n",
    "        for r in range(len(tree)):\n",
    "            basket[tree[r]] += 1\n",
    "            while len(basket) > 2:\n",
    "                basket[tree[l]] -= 1\n",
    "                if basket[tree[l]] == 0:\n",
    "                    basket.pop(tree[l])\n",
    "                l += 1\n",
    "            res = max(res, r-l+1)\n",
    "        return res"
   ]
  },
  {
   "cell_type": "code",
   "execution_count": 1,
   "metadata": {},
   "outputs": [],
   "source": [
    "tree = [3,3,3,1,2,1,1,2,3,3,4]"
   ]
  },
  {
   "cell_type": "code",
   "execution_count": 2,
   "metadata": {},
   "outputs": [
    {
     "data": {
      "text/plain": [
       "11"
      ]
     },
     "execution_count": 2,
     "metadata": {},
     "output_type": "execute_result"
    }
   ],
   "source": [
    "len(tree)"
   ]
  },
  {
   "cell_type": "code",
   "execution_count": null,
   "metadata": {},
   "outputs": [],
   "source": [
    "# https://blog.csdn.net/XX_123_1_RJ/article/details/82828570\n",
    "class Solution:\n",
    "    def totalFruit(self, tree):\n",
    "        cnt = {}\n",
    "        i = res = 0\n",
    "        for j, v in enumerate(tree):\n",
    "            cnt[v] = cnt.get(v, 0) + 1  # cnt.get(v, 0) 从字典里获取一个数，如果不存在就默认为 0\n",
    "            while len(cnt) > 2:  # 如果字典中的元素大于 2\n",
    "                cnt[tree[i]] -= 1\n",
    "                if cnt[tree[i]] == 0:\n",
    "                    del cnt[tree[i]]\n",
    "                i += 1\n",
    "            res = max(res, j - i + 1)  # 结束一个区间，更新一次最优结果\n",
    "        return res\n",
    "\n",
    "\n",
    "if __name__ == '__main__':\n",
    "    solu = Solution()\n",
    "    tree = [3, 3, 3, 1, 2, 1, 1, 2, 3, 3, 4]\n",
    "    print(solu.totalFruit(tree))"
   ]
  }
 ],
 "metadata": {
  "kernelspec": {
   "display_name": "Python [conda env:genEnv]",
   "language": "python",
   "name": "conda-env-genEnv-py"
  },
  "language_info": {
   "codemirror_mode": {
    "name": "ipython",
    "version": 3
   },
   "file_extension": ".py",
   "mimetype": "text/x-python",
   "name": "python",
   "nbconvert_exporter": "python",
   "pygments_lexer": "ipython3",
   "version": "3.8.5"
  }
 },
 "nbformat": 4,
 "nbformat_minor": 4
}
