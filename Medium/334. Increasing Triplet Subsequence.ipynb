{
 "cells": [
  {
   "cell_type": "markdown",
   "metadata": {},
   "source": [
    "334. Increasing Triplet Subsequence\n",
    "\n",
    "Tags: \n",
    "Amazon3 Google2 Facebook2\n",
    "\n",
    "Given an integer array nums, return true if there exists a triple of indices (i, j, k) such that i < j < k and nums[i] < nums[j] < nums[k]. If no such indices exists, return false.\n",
    "\n",
    " \n",
    "\n",
    "Example 1:\n",
    "\n",
    "Input: nums = [1,2,3,4,5]\n",
    "Output: true\n",
    "Explanation: Any triplet where i < j < k is valid.\n",
    "Example 2:\n",
    "\n",
    "Input: nums = [5,4,3,2,1]\n",
    "Output: false\n",
    "Explanation: No triplet exists.\n",
    "Example 3:\n",
    "\n",
    "Input: nums = [2,1,5,0,4,6]\n",
    "Output: true\n",
    "Explanation: The triplet (3, 4, 5) is valid because nums[3] == 0 < nums[4] == 4 < nums[5] == 6.\n",
    " \n",
    "\n",
    "Constraints:\n",
    "\n",
    "1 <= nums.length <= 105\n",
    "-231 <= nums[i] <= 231 - 1\n",
    " \n",
    "\n",
    "Follow up: Could you implement a solution that runs in O(n) time complexity and O(1) space complexity?"
   ]
  },
  {
   "cell_type": "code",
   "execution_count": null,
   "metadata": {},
   "outputs": [],
   "source": [
    "class Solution:\n",
    "    def increasingTriplet(self, nums: List[int]) -> bool:\n",
    "        first_num = float(\"inf\")\n",
    "        second_num = float(\"inf\")\n",
    "        for n in nums:\n",
    "            if n <= first_num:\n",
    "                first_num = n\n",
    "            elif n <= second_num:\n",
    "                second_num = n\n",
    "            else:\n",
    "                return True\n",
    "        return False"
   ]
  }
 ],
 "metadata": {
  "kernelspec": {
   "display_name": "Python [conda env:genEnv]",
   "language": "python",
   "name": "conda-env-genEnv-py"
  },
  "language_info": {
   "codemirror_mode": {
    "name": "ipython",
    "version": 3
   },
   "file_extension": ".py",
   "mimetype": "text/x-python",
   "name": "python",
   "nbconvert_exporter": "python",
   "pygments_lexer": "ipython3",
   "version": "3.8.5"
  }
 },
 "nbformat": 4,
 "nbformat_minor": 4
}
