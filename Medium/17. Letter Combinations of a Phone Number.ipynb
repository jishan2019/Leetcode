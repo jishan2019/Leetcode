{
 "cells": [
  {
   "cell_type": "markdown",
   "metadata": {},
   "source": [
    "17. Letter Combinations of a Phone Number\n",
    "\n",
    "Tag: String; Backtracking\n",
    "\n",
    "Given a string containing digits from 2-9 inclusive, return all possible letter combinations that the number could represent.\n",
    "\n",
    "A mapping of digit to letters (just like on the telephone buttons) is given below. Note that 1 does not map to any letters.\n",
    "\n",
    "\n",
    "\n",
    "Example:\n",
    "\n",
    "Input: \"23\"\n",
    "Output: [\"ad\", \"ae\", \"af\", \"bd\", \"be\", \"bf\", \"cd\", \"ce\", \"cf\"].\n",
    "Note:\n",
    "\n",
    "Although the above answer is in lexicographical order, your answer could be in any order you want."
   ]
  },
  {
   "cell_type": "code",
   "execution_count": null,
   "metadata": {},
   "outputs": [],
   "source": [
    "class Solution:\n",
    "    def letterCombinations(self, digits: str) -> List[str]:\n",
    "        kvmaps = {\n",
    "            '0': '0',\n",
    "            '1': '1',\n",
    "            '2': 'abc', \n",
    "            '3': 'def', \n",
    "            '4': 'ghi', \n",
    "            '5': 'jkl', \n",
    "            '6': 'mno', \n",
    "            '7': 'pqrs', \n",
    "            '8': 'tuv', \n",
    "            '9': 'wxyz'\n",
    "        }\n",
    "        res = []\n",
    "        self.dfs(digits, 0, res, '', kvmaps)\n",
    "        return res\n",
    "    \n",
    "    def dfs(self, string, index, res, path, kvmaps):\n",
    "        if index == len(string):\n",
    "            if path != '':\n",
    "                res.append(path)\n",
    "            return\n",
    "        for j in kvmaps[string[index]]:\n",
    "            self.dfs(string, index + 1, res, path + j, kvmaps)"
   ]
  },
  {
   "cell_type": "code",
   "execution_count": null,
   "metadata": {},
   "outputs": [],
   "source": [
    "class Solution:\n",
    "    def letterCombinations(self, digits: str) -> List[str]:\n",
    "        \n",
    "        if len(digits) ==0:\n",
    "            return []\n",
    "        \n",
    "        kvmaps = {\n",
    "            0: '0',\n",
    "            1: '1',\n",
    "            2: 'abc', \n",
    "            3: 'def', \n",
    "            4: 'ghi', \n",
    "            5: 'jkl', \n",
    "            6: 'mno', \n",
    "            7: 'pqrs', \n",
    "            8: 'tuv', \n",
    "            9: 'wxyz'\n",
    "        }\n",
    "        res = [\"\"]\n",
    "        \n",
    "        for digit in digits:\n",
    "            tmp_list = []\n",
    "            for ch in kvmaps[int(digit)]:\n",
    "                for str in res:\n",
    "                    tmp_list.append(str + ch)\n",
    "            res = tmp_list\n",
    "            \n",
    "        return res"
   ]
  },
  {
   "cell_type": "code",
   "execution_count": null,
   "metadata": {},
   "outputs": [],
   "source": []
  }
 ],
 "metadata": {
  "kernelspec": {
   "display_name": "Python [conda env:genEnv]",
   "language": "python",
   "name": "conda-env-genEnv-py"
  },
  "language_info": {
   "codemirror_mode": {
    "name": "ipython",
    "version": 3
   },
   "file_extension": ".py",
   "mimetype": "text/x-python",
   "name": "python",
   "nbconvert_exporter": "python",
   "pygments_lexer": "ipython3",
   "version": "3.8.5"
  }
 },
 "nbformat": 4,
 "nbformat_minor": 4
}
