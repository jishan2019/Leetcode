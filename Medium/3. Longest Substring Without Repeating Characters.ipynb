{
 "cells": [
  {
   "cell_type": "markdown",
   "metadata": {},
   "source": [
    "### 3. Longest Substring Without Repeating Characters\n",
    "\n",
    "Tag: hash table; two pointers; string; sliding window"
   ]
  },
  {
   "cell_type": "markdown",
   "metadata": {},
   "source": [
    "Given a string, find the length of the __longest substring__ without repeating characters.\n",
    "\n",
    "\n",
    "* Example 1:\n",
    "\n",
    ">Input: \"abcabcbb\" \\\n",
    " Output: 3 \\\n",
    " Explanation: The answer is \"abc\", with the length of 3. \n",
    "\n",
    "\n",
    "* Example 2:\n",
    "\n",
    ">Input: \"bbbbb\" \\\n",
    " Output: 1 \\\n",
    " Explanation: The answer is \"b\", with the length of 1.\n",
    "\n",
    "\n",
    "* Example 3:\n",
    "\n",
    ">Input: \"pwwkew\" \\\n",
    " Output: 3 \\\n",
    " Explanation: The answer is \"wke\", with the length of 3. \\\n",
    " Note that the answer must be a substring, \"pwke\" is a subsequence and not a substring."
   ]
  },
  {
   "cell_type": "code",
   "execution_count": null,
   "metadata": {},
   "outputs": [],
   "source": [
    "class Solution:\n",
    "    def lengthOfLongestSubstring(self, s: str) -> int:\n",
    "        # using two pointers to solve\n",
    "        left, right = 0, 0\n",
    "        chars = set() # using set to store the unique chars \n",
    "        res = 0\n",
    "        while left < len(s) and right < len(s):\n",
    "            if s[right] in chars:\n",
    "                if s[left] in chars:\n",
    "                    chars.remove(s[left])\n",
    "                left += 1\n",
    "            else:\n",
    "                chars.add(s[right])\n",
    "                right += 1\n",
    "                res = max(res, len(chars))\n",
    "        return res"
   ]
  },
  {
   "cell_type": "code",
   "execution_count": 2,
   "metadata": {},
   "outputs": [],
   "source": [
    "s = \"abcabcbb\"\n",
    "chars = set()"
   ]
  },
  {
   "cell_type": "code",
   "execution_count": 3,
   "metadata": {},
   "outputs": [
    {
     "data": {
      "text/plain": [
       "8"
      ]
     },
     "execution_count": 3,
     "metadata": {},
     "output_type": "execute_result"
    }
   ],
   "source": [
    "len(s)"
   ]
  },
  {
   "cell_type": "code",
   "execution_count": 4,
   "metadata": {},
   "outputs": [
    {
     "data": {
      "text/plain": [
       "'a'"
      ]
     },
     "execution_count": 4,
     "metadata": {},
     "output_type": "execute_result"
    }
   ],
   "source": [
    "s[0]"
   ]
  },
  {
   "cell_type": "code",
   "execution_count": 5,
   "metadata": {},
   "outputs": [
    {
     "data": {
      "text/plain": [
       "'b'"
      ]
     },
     "execution_count": 5,
     "metadata": {},
     "output_type": "execute_result"
    }
   ],
   "source": [
    "s[1]"
   ]
  },
  {
   "cell_type": "code",
   "execution_count": null,
   "metadata": {},
   "outputs": [],
   "source": []
  }
 ],
 "metadata": {
  "kernelspec": {
   "display_name": "Python [conda env:pysyft37]",
   "language": "python",
   "name": "conda-env-pysyft37-py"
  },
  "language_info": {
   "codemirror_mode": {
    "name": "ipython",
    "version": 3
   },
   "file_extension": ".py",
   "mimetype": "text/x-python",
   "name": "python",
   "nbconvert_exporter": "python",
   "pygments_lexer": "ipython3",
   "version": "3.7.6"
  }
 },
 "nbformat": 4,
 "nbformat_minor": 4
}
