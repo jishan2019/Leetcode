{
 "cells": [
  {
   "cell_type": "markdown",
   "metadata": {},
   "source": [
    "647. Palindromic Substrings\n",
    "\n",
    "Tag: DP (Medium)"
   ]
  },
  {
   "cell_type": "markdown",
   "metadata": {},
   "source": [
    "Given a string, your task is to count how many palindromic substrings in this string.\n",
    "\n",
    "The substrings with different start indexes or end indexes are counted as different substrings even they consist of same characters.\n",
    "\n",
    "* Example 1:\n",
    "\n",
    "Input: \"abc\"\n",
    "Output: 3\n",
    "Explanation: Three palindromic strings: \"a\", \"b\", \"c\".\n",
    " \n",
    "\n",
    "* Example 2:\n",
    "\n",
    "Input: \"aaa\"\n",
    "Output: 6\n",
    "Explanation: Six palindromic strings: \"a\", \"a\", \"a\", \"aa\", \"aa\", \"aaa\".\n",
    " \n",
    "\n",
    "* Note:\n",
    "\n",
    "The input string length won't exceed 1000."
   ]
  },
  {
   "cell_type": "code",
   "execution_count": null,
   "metadata": {},
   "outputs": [],
   "source": [
    "class Solution:\n",
    "    def countSubstrings(self, s: str) -> int:\n",
    "        \"\"\"\n",
    "        :type s: str\n",
    "        :rtype: int\n",
    "        \"\"\"\n",
    "        # using DP to solve this prob\n",
    "        n = len(s)\n",
    "        count = 0\n",
    "        start, end, maxLen = 0, 0, 0\n",
    "        dp = [[0] * n for _ in range(n)]\n",
    "        \n",
    "        # s[i] = s[j] ??  s[i+1:j-1] ??\n",
    "        \n",
    "        for i in range(n):\n",
    "            for j in range(i):\n",
    "                dp[j][i] = (s[j] == s[i]) & ((i - j < 2) | dp[j + 1][i - 1])\n",
    "                if dp[j][i]:\n",
    "                    count += 1\n",
    "            dp[i][i] = 1\n",
    "            count += 1\n",
    "        return count"
   ]
  }
 ],
 "metadata": {
  "kernelspec": {
   "display_name": "Python [conda env:pysyft37]",
   "language": "python",
   "name": "conda-env-pysyft37-py"
  },
  "language_info": {
   "codemirror_mode": {
    "name": "ipython",
    "version": 3
   },
   "file_extension": ".py",
   "mimetype": "text/x-python",
   "name": "python",
   "nbconvert_exporter": "python",
   "pygments_lexer": "ipython3",
   "version": "3.7.6"
  }
 },
 "nbformat": 4,
 "nbformat_minor": 4
}
