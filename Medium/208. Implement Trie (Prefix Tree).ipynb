{
 "cells": [
  {
   "cell_type": "markdown",
   "metadata": {},
   "source": [
    "208. Implement Trie (Prefix Tree)\n",
    "\n",
    "Tag: Design; Trie (M)"
   ]
  },
  {
   "cell_type": "markdown",
   "metadata": {},
   "source": [
    "Implement a trie with insert, search, and startsWith methods.\n",
    "\n",
    "Example:\n",
    "\n",
    "Trie trie = new Trie();\n",
    "\n",
    "trie.insert(\"apple\");\n",
    "trie.search(\"apple\");   // returns true\n",
    "trie.search(\"app\");     // returns false\n",
    "trie.startsWith(\"app\"); // returns true\n",
    "trie.insert(\"app\");   \n",
    "trie.search(\"app\");     // returns true\n",
    "Note:\n",
    "\n",
    "You may assume that all inputs are consist of lowercase letters a-z.\n",
    "All inputs are guaranteed to be non-empty strings."
   ]
  },
  {
   "cell_type": "code",
   "execution_count": null,
   "metadata": {},
   "outputs": [],
   "source": [
    "# reference from https://blog.csdn.net/fuxuemingzhu/article/details/79388432\n",
    "\n",
    "\n",
    "class Node(object):\n",
    "    def __init__(self):\n",
    "        self.children = collections.defaultdict(Node)\n",
    "        self.isword = False\n",
    "        \n",
    "class Trie:\n",
    "\n",
    "    def __init__(self):\n",
    "        \"\"\"\n",
    "        Initialize your data structure here.\n",
    "        \"\"\"\n",
    "        self.root = Node()\n",
    "\n",
    "    def insert(self, word: str) -> None:\n",
    "        \"\"\"\n",
    "        Inserts a word into the trie.\n",
    "        \"\"\"\n",
    "        current = self.root\n",
    "        for w in word:\n",
    "            current = current.children[w]\n",
    "        current.isword = True\n",
    "\n",
    "    def search(self, word: str) -> bool:\n",
    "        \"\"\"\n",
    "        Returns if the word is in the trie.\n",
    "        \"\"\"\n",
    "        current = self.root\n",
    "        for w in word:\n",
    "            current = current.children.get(w)\n",
    "            if current == None:\n",
    "                return False\n",
    "        return current.isword\n",
    "        \n",
    "\n",
    "    def startsWith(self, prefix: str) -> bool:\n",
    "        \"\"\"\n",
    "        Returns if there is any word in the trie that starts with the given prefix.\n",
    "        \"\"\"\n",
    "        current = self.root\n",
    "        for w in prefix:\n",
    "            current = current.children.get(w)\n",
    "            if current == None:\n",
    "                return False\n",
    "        return True\n",
    "\n",
    "\n",
    "# Your Trie object will be instantiated and called as such:\n",
    "# obj = Trie()\n",
    "# obj.insert(word)\n",
    "# param_2 = obj.search(word)\n",
    "# param_3 = obj.startsWith(prefix)"
   ]
  }
 ],
 "metadata": {
  "kernelspec": {
   "display_name": "Python [conda env:genEnv]",
   "language": "python",
   "name": "conda-env-genEnv-py"
  },
  "language_info": {
   "codemirror_mode": {
    "name": "ipython",
    "version": 3
   },
   "file_extension": ".py",
   "mimetype": "text/x-python",
   "name": "python",
   "nbconvert_exporter": "python",
   "pygments_lexer": "ipython3",
   "version": "3.8.5"
  }
 },
 "nbformat": 4,
 "nbformat_minor": 4
}
