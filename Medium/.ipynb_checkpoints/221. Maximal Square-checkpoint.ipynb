{
 "cells": [
  {
   "cell_type": "markdown",
   "metadata": {},
   "source": [
    "221. Maximal Square\n",
    "\n",
    "Tag: DP\n",
    "\n",
    "Given a 2D binary matrix filled with 0's and 1's, find the largest square containing only 1's and return its area.\n",
    "\n",
    "Example:\n",
    "\n",
    "Input: \n",
    "\n",
    "1 0 1 0 0\n",
    "1 0 1 1 1\n",
    "1 1 1 1 1\n",
    "1 0 0 1 0\n",
    "\n",
    "Output: 4"
   ]
  },
  {
   "cell_type": "code",
   "execution_count": null,
   "metadata": {},
   "outputs": [],
   "source": [
    "class Solution:\n",
    "    def maximalSquare(self, matrix: List[List[str]]) -> int:\n",
    "        if not matrix: return 0\n",
    "        M = len(matrix)\n",
    "        N = len(matrix[0])\n",
    "        dp = [[0] * N for _ in range(M)]\n",
    "        for i in range(M):\n",
    "            dp[i][0] = int(matrix[i][0])\n",
    "        for j in range(N):\n",
    "            dp[0][j] = int(matrix[0][j])\n",
    "        for i in range(1, M):\n",
    "            for j in range(1, N):\n",
    "                if int(matrix[i][j]) == 1:\n",
    "                    dp[i][j] = min(dp[i][j - 1], dp[i - 1][j], dp[i - 1][j - 1]) + 1\n",
    "        return max(map(max, dp)) ** 2"
   ]
  }
 ],
 "metadata": {
  "kernelspec": {
   "display_name": "Python [conda env:genEnv]",
   "language": "python",
   "name": "conda-env-genEnv-py"
  },
  "language_info": {
   "codemirror_mode": {
    "name": "ipython",
    "version": 3
   },
   "file_extension": ".py",
   "mimetype": "text/x-python",
   "name": "python",
   "nbconvert_exporter": "python",
   "pygments_lexer": "ipython3",
   "version": "3.8.5"
  }
 },
 "nbformat": 4,
 "nbformat_minor": 4
}
