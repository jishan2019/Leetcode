{
 "cells": [
  {
   "cell_type": "markdown",
   "metadata": {},
   "source": [
    "105. Construct Binary Tree from Preorder and Inorder Traversal\n",
    "\n",
    "Tag: Array; Tree; DFS"
   ]
  },
  {
   "cell_type": "markdown",
   "metadata": {},
   "source": [
    "Given preorder and inorder traversal of a tree, construct the binary tree.\n",
    "\n",
    "Note:\n",
    "You may assume that duplicates do not exist in the tree.\n",
    "\n",
    "For example, given\n",
    "\n",
    "preorder = [3,9,20,15,7]\n",
    "inorder = [9,3,15,20,7]\n",
    "Return the following binary tree:\n",
    "\n",
    "    3\n",
    "   / \\\n",
    "  9  20\n",
    "    /  \\\n",
    "   15   7"
   ]
  },
  {
   "cell_type": "code",
   "execution_count": null,
   "metadata": {},
   "outputs": [],
   "source": [
    "# Definition for a binary tree node.\n",
    "# class TreeNode:\n",
    "#     def __init__(self, val=0, left=None, right=None):\n",
    "#         self.val = val\n",
    "#         self.left = left\n",
    "#         self.right = right\n",
    "\n",
    "# using recursion to solve \n",
    "# the root node of the tree is the first node in the preorder, then we can apply the recursion function\n",
    "# to find the rest of the nodes in the tree\n",
    "class Solution:\n",
    "    def buildTree(self, preorder: List[int], inorder: List[int]) -> TreeNode:\n",
    "        if not preorder or not inorder:\n",
    "            return None\n",
    "        root = TreeNode(preorder[0])\n",
    "        index = inorder.index(preorder[0])\n",
    "        root.left = self.buildTree(preorder[1:index+1], inorder[:index])\n",
    "        root.right = self.buildTree(preorder[index+1:], inorder[index+1:])\n",
    "        return root"
   ]
  }
 ],
 "metadata": {
  "kernelspec": {
   "display_name": "Python [conda env:pysyft37]",
   "language": "python",
   "name": "conda-env-pysyft37-py"
  },
  "language_info": {
   "codemirror_mode": {
    "name": "ipython",
    "version": 3
   },
   "file_extension": ".py",
   "mimetype": "text/x-python",
   "name": "python",
   "nbconvert_exporter": "python",
   "pygments_lexer": "ipython3",
   "version": "3.7.6"
  }
 },
 "nbformat": 4,
 "nbformat_minor": 4
}
