{
 "cells": [
  {
   "cell_type": "markdown",
   "metadata": {},
   "source": [
    "406. Queue Reconstruction by Height\n",
    "\n",
    "Tag: greedy (medium)"
   ]
  },
  {
   "cell_type": "markdown",
   "metadata": {},
   "source": [
    "Suppose you have a random list of people standing in a queue. Each person is described by a pair of integers (h, k), where h is the height of the person and k is the number of people in front of this person who have a height greater than or equal to h. Write an algorithm to reconstruct the queue.\n",
    "\n",
    "Note:\n",
    "The number of people is less than 1,100.\n",
    "\n",
    " \n",
    "* Example\n",
    "\n",
    "Input:\n",
    "[[7,0], [4,4], [7,1], [5,0], [6,1], [5,2]]\n",
    "\n",
    "Output:\n",
    "[[5,0], [7,0], [5,2], [6,1], [4,4], [7,1]]"
   ]
  },
  {
   "cell_type": "code",
   "execution_count": null,
   "metadata": {},
   "outputs": [],
   "source": [
    "# Sort based on height in descending, and for people with same height, sort in ascending based on k.\n",
    "\n",
    "# First, we can sort the array based on height (descending)\n",
    "# we can get [[7,0],[7,1], [6,1], [5,0], [5,2], [4,4]]\n",
    "# Then we sort the array based on the k (ascending),we will have the following\n",
    "\n",
    "# [[7,0], [6,1], [7,1], [5,0], [5,2], [4,4]]\n",
    "\n",
    "# [[5,0], [7,0], [6,1], [7,1], [5,2], [4,4]]\n",
    "\n",
    "# [[5,0], [7,0], [5,2], [6,1], [7,1], [4,4]]\n",
    "\n",
    "# [[5,0], [7,0], [5,2], [6,1], [4,4], [7,1]]\n",
    "\n",
    "class Solution:\n",
    "    def reconstructQueue(self, people: List[List[int]]) -> List[List[int]]:\n",
    "        ans = []\n",
    "        people.sort(key = lambda x: (-x[0], x[1]))\n",
    "        for p in people:\n",
    "            ans.insert(p[1], p)\n",
    "        return ans"
   ]
  },
  {
   "cell_type": "code",
   "execution_count": 1,
   "metadata": {},
   "outputs": [],
   "source": [
    "people = [[7,0], [4,4], [7,1], [5,0], [6,1], [5,2]]"
   ]
  },
  {
   "cell_type": "code",
   "execution_count": null,
   "metadata": {},
   "outputs": [],
   "source": []
  }
 ],
 "metadata": {
  "kernelspec": {
   "display_name": "Python [conda env:pysyft37] *",
   "language": "python",
   "name": "conda-env-pysyft37-py"
  },
  "language_info": {
   "codemirror_mode": {
    "name": "ipython",
    "version": 3
   },
   "file_extension": ".py",
   "mimetype": "text/x-python",
   "name": "python",
   "nbconvert_exporter": "python",
   "pygments_lexer": "ipython3",
   "version": "3.7.6"
  }
 },
 "nbformat": 4,
 "nbformat_minor": 4
}
