{
 "cells": [
  {
   "cell_type": "markdown",
   "metadata": {},
   "source": [
    "114. Flatten Binary Tree to Linked List\n",
    "\n",
    "Tag: Tree; DFS"
   ]
  },
  {
   "cell_type": "markdown",
   "metadata": {},
   "source": [
    "Given a binary tree, flatten it to a linked list in-place.\n",
    "\n",
    "For example, given the following tree:\n",
    "\n",
    "    1\n",
    "   / \\\n",
    "  2   5\n",
    " / \\   \\\n",
    "3   4   6\n",
    "The flattened tree should look like:\n",
    "\n",
    "1\n",
    " \\\n",
    "  2\n",
    "   \\\n",
    "    3\n",
    "     \\\n",
    "      4\n",
    "       \\\n",
    "        5\n",
    "         \\\n",
    "          6"
   ]
  },
  {
   "cell_type": "code",
   "execution_count": null,
   "metadata": {},
   "outputs": [],
   "source": [
    "# Definition for a binary tree node.\n",
    "# class TreeNode:\n",
    "#     def __init__(self, val=0, left=None, right=None):\n",
    "#         self.val = val\n",
    "#         self.left = left\n",
    "#         self.right = right\n",
    "\n",
    "\"\"\"\n",
    "Use recursion to solve.\n",
    "1. Write a preOrder function to return the sequence of the tree\n",
    "2. Build the tree and make the left node with None value, then the tree will be flattened \n",
    "\"\"\"\n",
    "class Solution:\n",
    "    def flatten(self, root: TreeNode) -> None:\n",
    "        \"\"\"\n",
    "        Do not return anything, modify root in-place instead.\n",
    "        \"\"\"\n",
    "        res = []\n",
    "        self.preOrder(root, res)\n",
    "        for i in range(len(res) - 1):\n",
    "            res[i].left = None\n",
    "            res[i].right = res[i + 1]\n",
    "    \n",
    "    def preOrder(self, root, res):\n",
    "        if not root: return\n",
    "        res.append(root)\n",
    "        self.preOrder(root.left, res)\n",
    "        self.preOrder(root.right, res)"
   ]
  },
  {
   "cell_type": "code",
   "execution_count": null,
   "metadata": {},
   "outputs": [],
   "source": []
  }
 ],
 "metadata": {
  "kernelspec": {
   "display_name": "Python [conda env:genEnv]",
   "language": "python",
   "name": "conda-env-genEnv-py"
  },
  "language_info": {
   "codemirror_mode": {
    "name": "ipython",
    "version": 3
   },
   "file_extension": ".py",
   "mimetype": "text/x-python",
   "name": "python",
   "nbconvert_exporter": "python",
   "pygments_lexer": "ipython3",
   "version": "3.8.5"
  }
 },
 "nbformat": 4,
 "nbformat_minor": 4
}
