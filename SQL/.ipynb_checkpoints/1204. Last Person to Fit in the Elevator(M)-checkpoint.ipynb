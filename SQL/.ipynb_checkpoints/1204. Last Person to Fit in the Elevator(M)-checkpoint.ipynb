{
 "cells": [
  {
   "cell_type": "markdown",
   "metadata": {},
   "source": [
    "1204. Last Person to Fit in the Elevator\n",
    "\n",
    "Table: Queue\n",
    "\n",
    "+-------------+---------+\n",
    "| Column Name | Type    |\n",
    "+-------------+---------+\n",
    "| person_id   | int     |\n",
    "| person_name | varchar |\n",
    "| weight      | int     |\n",
    "| turn        | int     |\n",
    "+-------------+---------+\n",
    "person_id is the primary key column for this table.\n",
    "This table has the information about all people waiting for an elevator.\n",
    "The person_id and turn columns will contain all numbers from 1 to n, where n is the number of rows in the table.\n",
    " \n",
    "\n",
    "The maximum weight the elevator can hold is 1000.\n",
    "\n",
    "Write an SQL query to find the person_name of the last person who will fit in the elevator without exceeding the weight limit. It is guaranteed that the person who is first in the queue can fit in the elevator.\n",
    "\n",
    "The query result format is in the following example:\n",
    "\n",
    "Queue table\n",
    "+-----------+-------------------+--------+------+\n",
    "| person_id | person_name       | weight | turn |\n",
    "+-----------+-------------------+--------+------+\n",
    "| 5         | George Washington | 250    | 1    |\n",
    "| 3         | John Adams        | 350    | 2    |\n",
    "| 6         | Thomas Jefferson  | 400    | 3    |\n",
    "| 2         | Will Johnliams    | 200    | 4    |\n",
    "| 4         | Thomas Jefferson  | 175    | 5    |\n",
    "| 1         | James Elephant    | 500    | 6    |\n",
    "+-----------+-------------------+--------+------+\n",
    "\n",
    "Result table\n",
    "+-------------------+\n",
    "| person_name       |\n",
    "+-------------------+\n",
    "| Thomas Jefferson  |\n",
    "+-------------------+\n",
    "\n",
    "Queue table is ordered by turn in the example for simplicity.\n",
    "In the example George Washington(id 5), John Adams(id 3) and Thomas Jefferson(id 6) will enter the elevator as their weight sum is 250 + 350 + 400 = 1000.\n",
    "Thomas Jefferson(id 6) is the last person to fit in the elevator because he has the last turn in these three people."
   ]
  },
  {
   "cell_type": "code",
   "execution_count": null,
   "metadata": {},
   "outputs": [],
   "source": [
    "# self join \n",
    "\n",
    "SELECT q1.person_name \n",
    "FROM Queue q1 JOIN Queue q2 on q1.turn >= q2.turn\n",
    "GROUP BY q1.turn\n",
    "HAVING SUM(q2.weight)<=1000\n",
    "ORDER BY SUM(q2.weight) DESC\n",
    "LIMIT 1\n",
    ";"
   ]
  }
 ],
 "metadata": {
  "kernelspec": {
   "display_name": "Python [conda env:genEnv]",
   "language": "python",
   "name": "conda-env-genEnv-py"
  },
  "language_info": {
   "codemirror_mode": {
    "name": "ipython",
    "version": 3
   },
   "file_extension": ".py",
   "mimetype": "text/x-python",
   "name": "python",
   "nbconvert_exporter": "python",
   "pygments_lexer": "ipython3",
   "version": "3.8.5"
  }
 },
 "nbformat": 4,
 "nbformat_minor": 4
}
