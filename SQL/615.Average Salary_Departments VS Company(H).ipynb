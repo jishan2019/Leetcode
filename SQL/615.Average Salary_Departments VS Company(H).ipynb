{
 "cells": [
  {
   "cell_type": "markdown",
   "metadata": {},
   "source": [
    "Given two tables as below, write a query to display the comparison result (higher/lower/same) of the average salary of employees in a department to the company's average salary.\n",
    " \n",
    "\n",
    "Table: salary\n",
    "| id | employee_id | amount | pay_date   |\n",
    "|----|-------------|--------|------------|\n",
    "| 1  | 1           | 9000   | 2017-03-31 |\n",
    "| 2  | 2           | 6000   | 2017-03-31 |\n",
    "| 3  | 3           | 10000  | 2017-03-31 |\n",
    "| 4  | 1           | 7000   | 2017-02-28 |\n",
    "| 5  | 2           | 6000   | 2017-02-28 |\n",
    "| 6  | 3           | 8000   | 2017-02-28 |\n",
    " \n",
    "\n",
    "The employee_id column refers to the employee_id in the following table employee.\n",
    " \n",
    "\n",
    "| employee_id | department_id |\n",
    "|-------------|---------------|\n",
    "| 1           | 1             |\n",
    "| 2           | 2             |\n",
    "| 3           | 2             |\n",
    " \n",
    "\n",
    "So for the sample data above, the result is:\n",
    " \n",
    "\n",
    "| pay_month | department_id | comparison  |\n",
    "|-----------|---------------|-------------|\n",
    "| 2017-03   | 1             | higher      |\n",
    "| 2017-03   | 2             | lower       |\n",
    "| 2017-02   | 1             | same        |\n",
    "| 2017-02   | 2             | same        |\n",
    " \n",
    "\n",
    "Explanation\n",
    " \n",
    "\n",
    "In March, the company's average salary is (9000+6000+10000)/3 = 8333.33...\n",
    " \n",
    "\n",
    "The average salary for department '1' is 9000, which is the salary of employee_id '1' since there is only one employee in this department. So the comparison result is 'higher' since 9000 > 8333.33 obviously.\n",
    " \n",
    "\n",
    "The average salary of department '2' is (6000 + 10000)/2 = 8000, which is the average of employee_id '2' and '3'. So the comparison result is 'lower' since 8000 < 8333.33.\n",
    " \n",
    "\n",
    "With he same formula for the average salary comparison in February, the result is 'same' since both the department '1' and '2' have the same average salary with the company, which is 7000."
   ]
  },
  {
   "cell_type": "code",
   "execution_count": null,
   "metadata": {},
   "outputs": [],
   "source": [
    "# window function\n",
    "SELECT DISTINCT pay_month, department_id, \n",
    "(CASE WHEN department_avg_salary > company_avg_salary THEN 'higher'\n",
    "     WHEN department_avg_salary < company_avg_salary THEN 'lower'\n",
    "     WHEN department_avg_salary = company_avg_salary THEN 'same' END) AS comparison\n",
    "FROM (\n",
    "SELECT A.employee_id, amount, pay_date,department_id, LEFT(pay_date,7) as pay_month, AVG(amount) OVER(PARTITION BY A.pay_date) AS company_avg_salary,\n",
    "AVG(amount) OVER(PARTITION BY A.pay_date, B.department_id) AS department_avg_salary\n",
    "FROM salary AS A\n",
    "JOIN employee AS B\n",
    "ON A.employee_id = B.employee_id) AS temp;"
   ]
  }
 ],
 "metadata": {
  "kernelspec": {
   "display_name": "Python [conda env:genEnv]",
   "language": "python",
   "name": "conda-env-genEnv-py"
  },
  "language_info": {
   "codemirror_mode": {
    "name": "ipython",
    "version": 3
   },
   "file_extension": ".py",
   "mimetype": "text/x-python",
   "name": "python",
   "nbconvert_exporter": "python",
   "pygments_lexer": "ipython3",
   "version": "3.8.5"
  }
 },
 "nbformat": 4,
 "nbformat_minor": 4
}
