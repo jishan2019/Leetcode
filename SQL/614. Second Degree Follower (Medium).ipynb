{
 "cells": [
  {
   "cell_type": "markdown",
   "metadata": {},
   "source": [
    "614. Second Degree Follower\n",
    "\n",
    "Facebook 4; Databricks 2\n",
    "\n",
    "In facebook, there is a follow table with two columns: followee, follower.\n",
    "\n",
    "Please write a sql query to get the amount of each follower’s follower if he/she has one.\n",
    "\n",
    "For example:\n",
    "\n",
    "+-------------+------------+\n",
    "| followee    | follower   |\n",
    "+-------------+------------+\n",
    "|     A       |     B      |\n",
    "|     B       |     C      |\n",
    "|     B       |     D      |\n",
    "|     D       |     E      |\n",
    "+-------------+------------+\n",
    "should output:\n",
    "+-------------+------------+\n",
    "| follower    | num        |\n",
    "+-------------+------------+\n",
    "|     B       |  2         |\n",
    "|     D       |  1         |\n",
    "+-------------+------------+\n",
    "Explaination:\n",
    "Both B and D exist in the follower list, when as a followee, B's follower is C and D, and D's follower is E. A does not exist in follower list.\n",
    " \n",
    "\n",
    " \n",
    "\n",
    "Note:\n",
    "Followee would not follow himself/herself in all cases.\n",
    "Please display the result in follower's alphabet order."
   ]
  },
  {
   "cell_type": "code",
   "execution_count": null,
   "metadata": {},
   "outputs": [],
   "source": [
    "SELECT f1.follower, COUNT(DISTINCT f2.follower) AS num\n",
    "FROM follow f1\n",
    "INNER JOIN follow f2 ON f1.follower =  f2.followee\n",
    "GROUP BY f1.follower\n",
    ";"
   ]
  }
 ],
 "metadata": {
  "kernelspec": {
   "display_name": "Python [conda env:genEnv]",
   "language": "python",
   "name": "conda-env-genEnv-py"
  },
  "language_info": {
   "codemirror_mode": {
    "name": "ipython",
    "version": 3
   },
   "file_extension": ".py",
   "mimetype": "text/x-python",
   "name": "python",
   "nbconvert_exporter": "python",
   "pygments_lexer": "ipython3",
   "version": "3.8.5"
  }
 },
 "nbformat": 4,
 "nbformat_minor": 4
}
