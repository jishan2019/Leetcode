{
 "cells": [
  {
   "cell_type": "markdown",
   "metadata": {},
   "source": [
    "SELECT Students.id, Students.name\n",
    "FROM Students LEFT JOIN Departments ON Students.department_id = Departments.id\n",
    "WHERE ISNULL(Departments.id);"
   ]
  },
  {
   "cell_type": "code",
   "execution_count": null,
   "metadata": {},
   "outputs": [],
   "source": [
    "SELECT id, name\n",
    "FROM Students\n",
    "WHERE NOT department_id IN (\n",
    "    SELECT id \n",
    "    FROM Departments\n",
    "    );"
   ]
  }
 ],
 "metadata": {
  "kernelspec": {
   "display_name": "Python [conda env:genEnv]",
   "language": "python",
   "name": "conda-env-genEnv-py"
  },
  "language_info": {
   "codemirror_mode": {
    "name": "ipython",
    "version": 3
   },
   "file_extension": ".py",
   "mimetype": "text/x-python",
   "name": "python",
   "nbconvert_exporter": "python",
   "pygments_lexer": "ipython3",
   "version": "3.8.5"
  }
 },
 "nbformat": 4,
 "nbformat_minor": 4
}
