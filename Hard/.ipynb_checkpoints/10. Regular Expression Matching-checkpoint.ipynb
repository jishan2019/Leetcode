{
 "cells": [
  {
   "cell_type": "markdown",
   "metadata": {},
   "source": [
    "### 10. Regular Expression Matching\n",
    "\n",
    "Tag： String; DP; Backtracking"
   ]
  },
  {
   "cell_type": "markdown",
   "metadata": {},
   "source": [
    "Given an input string (__s__) and a pattern (__p__), implement regular expression matching with support for '__.__' and '__*__'.\n",
    "\n",
    ">'.' Matches any single character. \\\n",
    "'*' Matches zero or more of the preceding element. \\\n",
    "\n",
    "The matching should cover the __entire__ input string (not partial).\n",
    "\n",
    "\n",
    "__Note__:\n",
    "\n",
    "s could be empty and contains only lowercase letters a-z. \\\n",
    "p could be empty and contains only lowercase letters a-z, and characters like . or *.\n",
    "\n",
    "\n",
    "* Example 1:\n",
    ">Input: \\\n",
    "s = \"aa\" \\\n",
    "p = \"a\" \\\n",
    "Output: false \\\n",
    "Explanation: \"a\" does not match the entire string \"aa\".\n",
    "\n",
    "\n",
    "* Example 2:\n",
    "\n",
    ">Input: \\\n",
    "s = \"aa\" \\\n",
    "p = \"a*\" \\\n",
    "Output: true \\\n",
    "Explanation: '*' means zero or more of the preceding element, 'a'. Therefore, by repeating 'a' once, it becomes \"aa\".\n",
    "\n",
    "\n",
    "* Example 3:\n",
    "\n",
    ">Input: \\\n",
    "s = \"ab\" \\\n",
    "p = \".*\" \\\n",
    "Output: true \\\n",
    "Explanation: \".*\" means \"zero or more (*) of any character (.)\".\n",
    "\n",
    "\n",
    "* Example 4:\n",
    "\n",
    ">Input: \\\n",
    "s = \"aab\" \\\n",
    "p = \"c*a*b\" \\\n",
    "Output: true \\\n",
    "Explanation: c can be repeated 0 times, a can be repeated 1 time. Therefore, it matches \"aab\".\n",
    "\n",
    "\n",
    "* Example 5:\n",
    "\n",
    ">Input: \\ \n",
    "s = \"mississippi\" \\\n",
    "p = \"mis*is*p*.\" \\\n",
    "Output: false"
   ]
  },
  {
   "cell_type": "code",
   "execution_count": null,
   "metadata": {},
   "outputs": [],
   "source": [
    "# using DP to solve; don't forget to pay attention to the index of the string"
   ]
  },
  {
   "cell_type": "code",
   "execution_count": null,
   "metadata": {},
   "outputs": [],
   "source": [
    "class Solution:\n",
    "    def isMatch(self, s: str, p: str) -> bool:\n",
    "        dp=[[False for i in range(len(p)+1)] for j in range(len(s)+1)]\n",
    "        dp[0][0]=True\n",
    "        for i in range(1,len(p)+1):\n",
    "            if p[i-1]=='*':\n",
    "                if i>=2:\n",
    "                    dp[0][i]=dp[0][i-2]\n",
    "        for i in range(1,len(s)+1):\n",
    "            for j in range(1,len(p)+1):\n",
    "                if p[j-1]=='.':\n",
    "                    dp[i][j]=dp[i-1][j-1]\n",
    "                elif p[j-1]=='*':\n",
    "                    dp[i][j]=dp[i][j-1] or dp[i][j-2] or (dp[i-1][j] and (s[i-1]==p[j-2] or p[j-2]=='.'))\n",
    "                else:\n",
    "                    dp[i][j]=dp[i-1][j-1] and s[i-1]==p[j-1]\n",
    "        return dp[len(s)][len(p)]"
   ]
  }
 ],
 "metadata": {
  "kernelspec": {
   "display_name": "Python [conda env:pysyft37]",
   "language": "python",
   "name": "conda-env-pysyft37-py"
  },
  "language_info": {
   "codemirror_mode": {
    "name": "ipython",
    "version": 3
   },
   "file_extension": ".py",
   "mimetype": "text/x-python",
   "name": "python",
   "nbconvert_exporter": "python",
   "pygments_lexer": "ipython3",
   "version": "3.7.6"
  }
 },
 "nbformat": 4,
 "nbformat_minor": 4
}
